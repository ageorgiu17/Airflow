{
 "cells": [
  {
   "cell_type": "markdown",
   "metadata": {},
   "source": [
    "# What is Airflow?"
   ]
  },
  {
   "cell_type": "markdown",
   "metadata": {},
   "source": [
    "Ce este Airflow? Airflow este o platformă open source prin care putem (utilizând limbaj de programare) să facem schedule și să monitorizăm un pipeline. De asemenea, un alt aspect din Airflow este faptul că acesta este extrem de scalabil. Airflow are următorii executori:\n",
    "\n",
    "1. Kubernetes Executor - pentru a rula Airflow pe un cluster de Kubernetes\n",
    "\n",
    "2. Celery Executor - pentru a rula Airflow pe un cluster de Celery\n",
    "\n",
    "3. Local Executor - pentru a rula Airflow local"
   ]
  },
  {
   "cell_type": "markdown",
   "metadata": {},
   "source": [
    "Un alt avantaj este faptul că acest tool și vine și cu un UI, un UI destul de simplu dar extrem de bun prin care putem să manageriem pipeline-uri foarte ușor din UI. De asemenea, Airflow este extrem de extensibil, în ideea în care putem să ne creem Operatori custom sau plugin-uri specifice."
   ]
  },
  {
   "cell_type": "markdown",
   "metadata": {},
   "source": [
    "Componentele care alcătuiesc Airflow sunt următoarele:\n",
    "\n",
    "1. Web Server - server-ul prin care accesăm UI\n",
    "\n",
    "2. Scheduler - reprezintă creierul din Airflow. Acesta se ocupă cu partea de a face scheduling la pipeline-uri. De obicei, în producție există 2 Schedulers\n",
    "\n",
    "3. Metastore - o bază de date (SQL) unde se stochează toate informațiile (metadata) despre pipeline-urile pe care le avem orchestrate cu Airflow\n",
    "\n",
    "4. Triggerer \n",
    "\n",
    "5. Executor - Cum și pe ce sistem să se execute task-urile (dar nu el le execută)\n",
    "\n",
    "6. Worker - mașina pe care task-urile sunt executate (execută task-urile)"
   ]
  },
  {
   "cell_type": "markdown",
   "metadata": {},
   "source": [
    "Un Task în Aiflow este defapt un \"operator\". Un operator reprezintă logica pe care dorim să o realizăm prin task-ul respectiv. De exemplu un task ar fi să scriem anumite date în cadrul unei baze de date în Snowflake. Pentru a crea task-ul respectiv o să ne folosim de un operator de Snowflake. Există mai multe categorii de operatori precum:\n",
    "\n",
    "1. Action Operator - operatori precum Python Operator, Bash Operator prin care se execută code de Python sau de bash (mai există și alții în acestă categorie)\n",
    "\n",
    "2. Transfer Operator - operatori prin care transferăm date dintr-o locație în alta (un fișier din S3 îl punem ca și tabel în Snowflake)\n",
    "\n",
    "3. Sensor Operator - acești operatori așteaptă ca ceva să se întâmple, așteaptă să se creeze un fișier într-o locație specifică, așteaptă să se introducă ceva date într-o bază de date\n",
    "\n",
    "4. Defferable Operator -  o versiune mai bună pentru Sensor Operator"
   ]
  },
  {
   "cell_type": "markdown",
   "metadata": {},
   "source": []
  }
 ],
 "metadata": {
  "language_info": {
   "name": "python"
  }
 },
 "nbformat": 4,
 "nbformat_minor": 2
}
