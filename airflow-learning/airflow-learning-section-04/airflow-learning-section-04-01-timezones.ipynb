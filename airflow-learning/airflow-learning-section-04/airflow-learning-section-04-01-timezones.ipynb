{
 "cells": [
  {
   "cell_type": "markdown",
   "metadata": {},
   "source": [
    "# Timezones"
   ]
  },
  {
   "cell_type": "markdown",
   "metadata": {},
   "source": [
    "În această lecție o să învățăm despre cum anume ne influențează timezone-urile partea de Schedule la DAG-urile pe care le creem. Un timezone este o zonă geografică care are aceeași oră (oră uniformă). Majoritatea timezone-urilor fac referință la UTC (Universal Time), iar diferența poate fi de la UTC -12 până la UTC + 14. Exemple:\n",
    "\n",
    "- Paris = UTC + 2:00\n",
    "\n",
    "- New York = UTC - 4:00"
   ]
  },
  {
   "cell_type": "markdown",
   "metadata": {},
   "source": [
    "În limbajul Python avem două tipuri de Timezone:\n",
    "\n",
    "1. Naive\n",
    "\n",
    "2. Aware\n",
    "\n",
    "Un timezone de tip \"naive\" este creat atunci când se creează un obiect de tip datetime.datetime fără a specifica timezone-ul din care face parte, iar pentru unul de tip \"aware\" se specifică acest lucru. Atunci când ne creem un obiect de tip datetime este foarte indicat să creem unul \"aware\" ca și best practice. Acest lucru este folositor deoarece Airflow afișează datele referitoare la timp în format UTC. Din acest motiv, atunci când dorim să creem un DAG care să ruleze în fiecare zi la ora locală 04:00 (iar ora locală este UTC + 2), dacă setăm partea de schedule în fiecare zi la 04:00, fără să specificăm timezone-ul, atunci Airflow o să ruleze acest DAG la 04:00 UTC, iar asta înseamnă că ora locală la care o să ruleze aceste DAG este 06:00.\n",
    "\n",
    "Pentru a crea aceste obiecte \"aware\" putem să ne folosim de modulul \"airflow.timezone\". Airflow utilizează modulul \"pendulum\" pentru a interacționa cu aceste timezones."
   ]
  },
  {
   "cell_type": "markdown",
   "metadata": {},
   "source": [
    "O să avem mai jos un exemplu despre cum putem să creem un datetime de tip \"aware\" în Airflow."
   ]
  },
  {
   "cell_type": "code",
   "execution_count": null,
   "metadata": {},
   "outputs": [],
   "source": [
    "import pendulum\n",
    "from datetime import datetime\n",
    "from airflow import DAG\n",
    "\n",
    "local_timezone = pendulum.timezone(\"Europe/Amsterdam\")\n",
    "default_args = {\n",
    "    \"start_date\": datetime(2024, 1, 1, tzinfo=local_timezone),\n",
    "    \"owner\": \"airflow\",\n",
    "    \"retries\": 1,\n",
    "    \"retry_delay\": 5\n",
    "}\n",
    "\n",
    "with DAG(\n",
    "    dag_id=\"timezone-dag\",\n",
    "    default_args=default_args) as dag:\n",
    "    pass"
   ]
  }
 ],
 "metadata": {
  "language_info": {
   "name": "python"
  }
 },
 "nbformat": 4,
 "nbformat_minor": 2
}
