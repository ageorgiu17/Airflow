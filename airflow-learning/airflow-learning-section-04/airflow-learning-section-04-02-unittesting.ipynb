{
 "cells": [
  {
   "cell_type": "markdown",
   "metadata": {},
   "source": [
    "# Unit testing of DAGs"
   ]
  },
  {
   "cell_type": "markdown",
   "metadata": {},
   "source": [
    "Un aspect foarte important în momentul în care se lucrează la anumite proiecte, reprezintă partea de unit test. Acest lucru ne ajută să ne asigurăm că aplicația/pipeline-ul nu s-a stricat după ce am făcut anumite modificări în cod"
   ]
  },
  {
   "cell_type": "markdown",
   "metadata": {},
   "source": [
    "Există 5 categorii de teste pe care le putem adăuga atunci când lucrăm cu Airflow\n",
    "\n",
    "1. DAG Validation Test\n",
    "\n",
    "- În aceste teste verificăm dacă DAG-ul este valid, dacă nu există bucle, putem verifica argumentele \n",
    "\n",
    "2. DAG/Pipeline Definition Tests\n",
    "\n",
    "- putem verifica numărul total de task-uri, dependințele de task-uri au fost setate corect. Scopul nu este să verifice logica DAG-ului, ci doar să verifice dacă modificările care au fost făcute au fost intenționate.\n",
    "\n",
    "3. Unit Tests\n",
    "\n",
    "- Pentru a testa logica din anumite funcții externe sau operatori custom\n",
    "\n",
    "4. Integration Tests\n",
    "\n",
    "- Interacțiunea dintre două sau mai multe task-uri este testată, dacă task-uri pot schimba date între ele, dacă conexiunile cu surse externe sunt disponibile\n",
    "\n",
    "5. End to end pipeline test\n",
    "\n",
    "- Testează toată logica pipeline-ului, verifică dacă outputul unui DAG este corect, verifică performanța (dacă un DAG nu rulează prea încet)"
   ]
  },
  {
   "cell_type": "markdown",
   "metadata": {},
   "source": [
    "În continuare o să trecem prin primele 2 categorii de testare ca să ne testăm validarea și definirea DAG-ului pe care l-am creat în secțiunea precedentă. Ca să facem asta, în folderul de mnt o să ne creem un director pe care o să îl denumim test_dags"
   ]
  },
  {
   "cell_type": "markdown",
   "metadata": {},
   "source": [
    "Primul lucru pe care trebuie să îl facem, este să ne creem un fișier denumit \"conftest.py\" în care să trecem următorul cod"
   ]
  },
  {
   "cell_type": "code",
   "execution_count": null,
   "metadata": {},
   "outputs": [],
   "source": [
    "import pytest\n",
    "from airflow.models import DagBag\n",
    "\n",
    "@pytest.fixture(scope=\"session\")\n",
    "def dagbag():\n",
    "    return DagBag()"
   ]
  },
  {
   "cell_type": "markdown",
   "metadata": {},
   "source": [
    "După ce avem acest fișier putem să trecem la partea în care ne testăm DAG-urile. Pentru testare o să ne folosim de \"pytest\" și o să creem test cu ajutorul claselor. Primul test pe care o să îl creem este acela prin care se verifică dacă toate DAG-urile au fost importate cu succes de către Airflow."
   ]
  },
  {
   "cell_type": "markdown",
   "metadata": {},
   "source": [
    "Pentru asta, în cadrul dicetorului de test_dags o să creem un nou fișier denumit \"test_dag_validation.py\" în care o să introducem următorul cod."
   ]
  },
  {
   "cell_type": "code",
   "execution_count": null,
   "metadata": {},
   "outputs": [],
   "source": [
    "import pytest\n",
    "from airflow.models import DagBag\n",
    "\n",
    "class TestDagValidation:\n",
    "\n",
    "    def test_import_dags(self, dagbag):\n",
    "        \"\"\"\n",
    "            Verify that Airflow is able to import all DAGs\n",
    "            in the repo\n",
    "            - check for typos\n",
    "            - check for cycles\n",
    "        \"\"\"\n",
    "        assert len(dagbag.import_errors) == 0, \"DAG failures detected! Got: {}\".format(\n",
    "            dagbag.import_errors\n",
    "        )"
   ]
  },
  {
   "cell_type": "markdown",
   "metadata": {},
   "source": [
    "Mai sus avem codul prin care putem să testăm dacă DAG-urile au fost importate cu succes de către Airflow. Pentru a rula acest test, trebuie să intrăm in interiorul containerului de airflow, să navigăm în directorul unde există acest fișier (/opt/airflow/test_dags) și să rulăm acest fișier cu comanda următoare:"
   ]
  },
  {
   "cell_type": "code",
   "execution_count": null,
   "metadata": {
    "vscode": {
     "languageId": "powershell"
    }
   },
   "outputs": [],
   "source": [
    "pytest test_dag_validation.py -v"
   ]
  },
  {
   "cell_type": "markdown",
   "metadata": {},
   "source": [
    "Atunci când rulăm comanda de mai sus ar trebui să avem următorul rezultat:"
   ]
  },
  {
   "cell_type": "markdown",
   "metadata": {},
   "source": [
    "<img src=\"../../ss/airflow-section-04/section-04-ss-01.png\">"
   ]
  },
  {
   "cell_type": "markdown",
   "metadata": {},
   "source": [
    "După cum se poate observa, testul respectiv a trecut. Asta înseamnă că toate DAG-urile care există au fost importate cu succes. În continuare o să creem un nou test prin care o să verificăm dacă DAG-urile respective au email-ul care trebuie. Ca să verificăm asta, în clasa de TestDagValidation o să ne creem o variabilă de clasă care o să aibă ca și valoare email-ul ce trebuie verificat"
   ]
  },
  {
   "cell_type": "code",
   "execution_count": null,
   "metadata": {},
   "outputs": [],
   "source": [
    "import pytest\n",
    "from airflow.models import DagBag\n",
    "\n",
    "class TestDagValidation:\n",
    "\n",
    "    REQUIRED_EMAIL = \"georgiuandrei05@gmail.com\"\n",
    "\n",
    "    def test_import_dags(self, dagbag):\n",
    "        \"\"\"\n",
    "            Verify that Airflow is able to import all DAGs\n",
    "            in the repo\n",
    "            - check for typos\n",
    "            - check for cycles\n",
    "        \"\"\"\n",
    "        assert len(dagbag.import_errors) == 0, \"DAG failures detected! Got: {}\".format(\n",
    "            dagbag.import_errors\n",
    "        )\n",
    "\n",
    "    def test_default_args_email(self, dagbag):\n",
    "        \"\"\"\n",
    "            Verify that DAGs have the required email\n",
    "            - Check email\n",
    "        \"\"\"\n",
    "        for dag_id, dag in dagbag.dags.items():\n",
    "            emails = dag.default_args.get('email', [])\n",
    "            assert self.REQUIRED_EMAIL in emails, \"The mail {0} for sending alerts is missing from the DAG {1}\".format(self.REQUIRED_EMAIL, dag_id)\n",
    "            "
   ]
  },
  {
   "cell_type": "markdown",
   "metadata": {},
   "source": [
    "Dacă rulăm aceste teste o să avem următoarele rezultate."
   ]
  },
  {
   "cell_type": "markdown",
   "metadata": {},
   "source": [
    "<img src=\"../../ss/airflow-section-04/section-04-ss-02.png\">"
   ]
  },
  {
   "cell_type": "markdown",
   "metadata": {},
   "source": [
    "Acum avem un test care este cu fail. Acest test ne spune faptul că mail-ul respectiv lipsește din DAG-ul \"test_forex_data_pipeline\". Dacă adăugăm argumentele default (unde trecem mail-ul), acest test o să treacă după."
   ]
  },
  {
   "cell_type": "markdown",
   "metadata": {},
   "source": [
    "Ce anume mai putem să verificăm este numărul total de task-uri și dacă dependința de task-uri este creată precum trebuie."
   ]
  },
  {
   "cell_type": "markdown",
   "metadata": {},
   "source": [
    "Cam cu asta se ocupă parte de testare pentru validare și definiție a task-urilor. Restul de teste o să le parcurgem în cadrul acestui curs."
   ]
  },
  {
   "cell_type": "markdown",
   "metadata": {},
   "source": []
  }
 ],
 "metadata": {
  "language_info": {
   "name": "python"
  }
 },
 "nbformat": 4,
 "nbformat_minor": 2
}
