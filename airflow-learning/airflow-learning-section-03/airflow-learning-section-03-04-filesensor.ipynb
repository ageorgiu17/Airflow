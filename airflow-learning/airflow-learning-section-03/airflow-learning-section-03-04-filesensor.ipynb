{
 "cells": [
  {
   "cell_type": "markdown",
   "metadata": {},
   "source": [
    "# FileSensor"
   ]
  },
  {
   "cell_type": "markdown",
   "metadata": {},
   "source": [
    "Cu ajutorul acestui sensor o să putem verifica dacă un anumit fișier există în cadrul fișierelor locale. Ca să putem să vedem de ce parametrii are nevoie acest sensor putem să căutăm documentația de la acesta în documentația oficială de la Airflow."
   ]
  },
  {
   "cell_type": "markdown",
   "metadata": {},
   "source": [
    "<img src=\"../../ss/airflow-section-03/section-03-ss-05.png\">"
   ]
  },
  {
   "cell_type": "markdown",
   "metadata": {},
   "source": [
    "Din această documentație putem să vedem de unde anume trebuie să importăm acest modul (airflow.sensors.filesystem) și de asemenea de parametrii care trebuie configurați pentru acest sensor.\n",
    "\n",
    "- fs_conn_id = reprezintă conexiunea (precum cea de HTTP, dar aceasta o să fie de tipul File (Path))\n",
    "\n",
    "- filepath = fișierul pe care să îl caute"
   ]
  },
  {
   "cell_type": "markdown",
   "metadata": {},
   "source": [
    "O să creem acea conexiune în cadrul Airflow utiizând partea de UI."
   ]
  },
  {
   "cell_type": "markdown",
   "metadata": {},
   "source": [
    "<img src=\"../../ss/airflow-section-03/section-03-ss-06.png\">"
   ]
  },
  {
   "cell_type": "markdown",
   "metadata": {},
   "source": [
    "Pentru această conexiunea, la partea de Extra o să trecem o locație care o să fie considerată ca și locația de bază (root directory) pentru conexiunea respectivă. Locația respectivă este /opt/airflow/dags/file, deoarece aceasta este locația din cadrul containerului de docker unde trebuie să căutăm un anumit fișier. O să căutăm în cadrul acestui director fișierul \"forex_currencies.csv\""
   ]
  },
  {
   "cell_type": "markdown",
   "metadata": {},
   "source": [
    "Task-ul pe care o să îl adăugăm o să arate așa:"
   ]
  },
  {
   "cell_type": "code",
   "execution_count": null,
   "metadata": {},
   "outputs": [],
   "source": [
    "from airflow.sensors.filesystem import FileSensor\n",
    "\n",
    "is_forex_file_available = FileSensor(\n",
    "    task_id=\"is_forex_file_available\",\n",
    "    fs_conn_id=\"forex_path\",\n",
    "    filepath=\"forex_currencies.csv\"\n",
    ")"
   ]
  },
  {
   "cell_type": "markdown",
   "metadata": {},
   "source": [
    "O să adăugăm acest cod în cadrul întregului fișier python în care ne-am creat acel DAG."
   ]
  },
  {
   "cell_type": "markdown",
   "metadata": {},
   "source": []
  }
 ],
 "metadata": {
  "language_info": {
   "name": "python"
  }
 },
 "nbformat": 4,
 "nbformat_minor": 2
}
