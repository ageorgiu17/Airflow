{
 "cells": [
  {
   "cell_type": "markdown",
   "metadata": {},
   "source": [
    "# The Forex Data Pipeline"
   ]
  },
  {
   "cell_type": "markdown",
   "metadata": {},
   "source": [
    "În cadrul acestei secțiuni o să creem un întreg pipeline pentru date. Ce anume o să învățăm în această secțiune:\n",
    "\n",
    "1. Cum să creem un pipeline real pentru date\n",
    "\n",
    "2. Ce este un DAG și un Operator\n",
    "\n",
    "3. Cum să executăm funcții de Python (există un operator)\n",
    "\n",
    "4. Cum să executăm un job de Spark\n"
   ]
  },
  {
   "cell_type": "markdown",
   "metadata": {},
   "source": [
    "În cadrul acestui pipeline o să procesăm date de tip forex (adică informațiile cu privire la un preț al unei acțiuni pentru o anumită periodă). O să împărțim proiectul respectiv în 8 părți diferite.\n",
    "\n",
    "1. Veridicăm dacă datele referitoare la acel forex sunt disponibile\n",
    "\n",
    "2. Verificăm dacă fișierul de unde dorim să facem fetch la date este disponiobil sau nu\n",
    "\n",
    "3. Descărcăm datele utilizând Python\n",
    "\n",
    "4. Salvăm datele în format HDFS (posibil să încercăm și cu S3)\n",
    "\n",
    "5. Creem un table de tip Hive ca să stocăm datele\n",
    "\n",
    "6. Procesăm datele utilizând Spark\n",
    "\n",
    "7. Trimitem notificare pe email (opțional)\n",
    "\n",
    "8. Trimitem mesaj pe Slack (opțional)"
   ]
  },
  {
   "cell_type": "markdown",
   "metadata": {},
   "source": []
  }
 ],
 "metadata": {
  "language_info": {
   "name": "python"
  }
 },
 "nbformat": 4,
 "nbformat_minor": 2
}
