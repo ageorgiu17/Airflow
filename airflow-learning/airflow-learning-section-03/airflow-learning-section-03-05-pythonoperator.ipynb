{
 "cells": [
  {
   "cell_type": "markdown",
   "metadata": {},
   "source": [
    "# PythonOperator"
   ]
  },
  {
   "cell_type": "markdown",
   "metadata": {},
   "source": [
    "De multe ori în cadrul unui pipeline trebuie să executăm un anumit cod de Python. Pentru a executa cod de Python, putem să ne folosim de operatorul PythonOperator prin care se execută o funcție de Python"
   ]
  },
  {
   "cell_type": "markdown",
   "metadata": {},
   "source": [
    "Pentru proiectul respectiv o să ne descărcăm ceva date pe laptop utilizând code de Python"
   ]
  },
  {
   "cell_type": "markdown",
   "metadata": {},
   "source": [
    "Metoda pe care o să o utilizăm este următoarea:\n"
   ]
  },
  {
   "cell_type": "code",
   "execution_count": null,
   "metadata": {},
   "outputs": [],
   "source": [
    "def download_rates():\n",
    "    BASE_URL = \"https://gist.githubusercontent.com/marclamberti/f45f872dea4dfd3eaa015a4a1af4b39b/raw/\"\n",
    "    ENDPOINTS = {\n",
    "        'USD': 'api_forex_exchange_usd.json',\n",
    "        'EUR': 'api_forex_exchange_eur.json'\n",
    "    }\n",
    "    with open('/opt/airflow/dags/files/forex_currencies.csv') as forex_currencies:\n",
    "        reader = csv.DictReader(forex_currencies, delimiter=';')\n",
    "        for idx, row in enumerate(reader):\n",
    "            base = row['base']\n",
    "            with_pairs = row['with_pairs'].split(' ')\n",
    "            indata = requests.get(f\"{BASE_URL}{ENDPOINTS[base]}\").json()\n",
    "            outdata = {'base': base, 'rates': {}, 'last_update': indata['date']}\n",
    "            for pair in with_pairs:\n",
    "                outdata['rates'][pair] = indata['rates'][pair]\n",
    "            with open('/opt/airflow/dags/files/forex_rates.json', 'a') as outfile:\n",
    "                json.dump(outdata, outfile)\n",
    "                outfile.write('\\n')"
   ]
  },
  {
   "cell_type": "markdown",
   "metadata": {},
   "source": [
    "Metoda de mai sus folosește atât librăria de requests, cât și cea de json. Pe lângă aceste librării trebuie să importăm și acest operator de Python. Codul complet (împreună cu operatorul de Python implementat) o să arate așa:"
   ]
  },
  {
   "cell_type": "code",
   "execution_count": null,
   "metadata": {},
   "outputs": [],
   "source": [
    "import csv\n",
    "import requests\n",
    "import json\n",
    "\n",
    "from airflow.operators.python import PythonOperator\n",
    "\n",
    "def download_rates():\n",
    "    BASE_URL = \"https://gist.githubusercontent.com/marclamberti/f45f872dea4dfd3eaa015a4a1af4b39b/raw/\"\n",
    "    ENDPOINTS = {\n",
    "        'USD': 'api_forex_exchange_usd.json',\n",
    "        'EUR': 'api_forex_exchange_eur.json'\n",
    "    }\n",
    "    with open('/opt/airflow/dags/files/forex_currencies.csv') as forex_currencies:\n",
    "        reader = csv.DictReader(forex_currencies, delimiter=';')\n",
    "        for idx, row in enumerate(reader):\n",
    "            base = row['base']\n",
    "            with_pairs = row['with_pairs'].split(' ')\n",
    "            indata = requests.get(f\"{BASE_URL}{ENDPOINTS[base]}\").json()\n",
    "            outdata = {'base': base, 'rates': {}, 'last_update': indata['date']}\n",
    "            for pair in with_pairs:\n",
    "                outdata['rates'][pair] = indata['rates'][pair]\n",
    "            with open('/opt/airflow/dags/files/forex_rates.json', 'a') as outfile:\n",
    "                json.dump(outdata, outfile)\n",
    "                outfile.write('\\n')\n",
    "\n",
    "\n",
    "download_forex_rates = PythonOperator(\n",
    "    task_id=\"download_forex_rates\",\n",
    "    python_callable=download_rates\n",
    ")"
   ]
  },
  {
   "cell_type": "markdown",
   "metadata": {},
   "source": [
    "Tot codul de Python pentru DAG în airlfow o să arate acuma așa:"
   ]
  },
  {
   "cell_type": "code",
   "execution_count": null,
   "metadata": {},
   "outputs": [],
   "source": [
    "from airflow import DAG\n",
    "from airflow.providers.http.sensors.http import HttpSensor\n",
    "from airflow.sensors.filesystem import FileSensor\n",
    "from airflow.operators.python import PythonOperator\n",
    "\n",
    "import json\n",
    "import csv\n",
    "import requests\n",
    "from datetime import datetime, timedelta\n",
    "\n",
    "\n",
    "# Define the default_args\n",
    "default_args = {\n",
    "    \"owner\": \"airflow\",\n",
    "    \"retries\": 3,\n",
    "    \"retry_delay\": timedelta(minutes=5),\n",
    "    \"email_on_failure\": False,\n",
    "    \"email\": \"georgiuandrei05@gmail.com\"\n",
    "}\n",
    "\n",
    "# Define the function that donwloads the data from the API\n",
    "def download_rates():\n",
    "    BASE_URL = \"https://gist.githubusercontent.com/marclamberti/f45f872dea4dfd3eaa015a4a1af4b39b/raw/\"\n",
    "    ENDPOINTS = {\n",
    "        'USD': 'api_forex_exchange_usd.json',\n",
    "        'EUR': 'api_forex_exchange_eur.json'\n",
    "    }\n",
    "    with open('/opt/airflow/dags/files/forex_currencies.csv') as forex_currencies:\n",
    "        reader = csv.DictReader(forex_currencies, delimiter=';')\n",
    "        for idx, row in enumerate(reader):\n",
    "            base = row['base']\n",
    "            with_pairs = row['with_pairs'].split(' ')\n",
    "            indata = requests.get(f\"{BASE_URL}{ENDPOINTS[base]}\").json()\n",
    "            outdata = {'base': base, 'rates': {}, 'last_update': indata['date']}\n",
    "            for pair in with_pairs:\n",
    "                outdata['rates'][pair] = indata['rates'][pair]\n",
    "            with open('/opt/airflow/dags/files/forex_rates.json', 'a') as outfile:\n",
    "                json.dump(outdata, outfile)\n",
    "                outfile.write('\\n')\n",
    "\n",
    "# Define the DAG\n",
    "with DAG(\n",
    "    dag_id = 'test_forex_data_pipeline',\n",
    "    description='Testing the Data Forex Pipeline from Udemy Course',\n",
    "    schedule_interval=\"@daily\",\n",
    "    start_date=datetime(2024, 1, 1),\n",
    "    catchup=False\n",
    "    ) as dag:\n",
    "    \n",
    "    # Define the HttpSensor task\n",
    "    is_forex_rates_available = HttpSensor(\n",
    "        task_id=\"is_forex_rates_available\",\n",
    "        http_conn_id=\"forex_api\",\n",
    "        endpoint=\"marclamberti/f45f872dea4dfd3eaa015a4a1af4b39b\",\n",
    "        response_check=lambda response: \"rates\" in response.text,\n",
    "        poke_interval=5,\n",
    "        timeout=25\n",
    "    )\n",
    "\n",
    "    # Define the FileSensor task\n",
    "    is_forex_file_available = FileSensor(\n",
    "        task_id=\"is_forex_file_available\",\n",
    "        fs_conn_id=\"forex_path\",\n",
    "        filepath=\"forex_currencies.csv\",\n",
    "        poke_interval=5,\n",
    "        timeout=20\n",
    "    )\n",
    "\n",
    "    # Define the PythonOperator task\n",
    "    download_forex_rates = PythonOperator(\n",
    "        task_id=\"download_forex_rates\",\n",
    "        python_callable=download_rates\n",
    "    )\n",
    "\n"
   ]
  },
  {
   "cell_type": "markdown",
   "metadata": {},
   "source": [
    "Acesta este modul prin care putem să executăm cod de Python în cadrul Airflow."
   ]
  },
  {
   "cell_type": "markdown",
   "metadata": {},
   "source": []
  }
 ],
 "metadata": {
  "language_info": {
   "name": "python"
  }
 },
 "nbformat": 4,
 "nbformat_minor": 2
}
