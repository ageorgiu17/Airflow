{
 "cells": [
  {
   "cell_type": "markdown",
   "metadata": {},
   "source": [
    "# What is a DAG?"
   ]
  },
  {
   "cell_type": "markdown",
   "metadata": {},
   "source": [
    "DAG-ul este elementul cu care o să interacționăm cel mai mult din Airflow. Ce anume este un DAG? Un DAG poate fi considerat ca și fiind un Pipeline de date (DAG=Data Pipeline). Numele vine de la Directed Acyclic Graph. Această denumire ne spune că avem de-a face cu un graph (care conține nodes și edges), iar acele edges sunt direcționate. De asemenea, din nume putem să ne dăm seama și de faptul că nu există bucle în cadrul unui astfel de graph."
   ]
  },
  {
   "cell_type": "markdown",
   "metadata": {},
   "source": []
  }
 ],
 "metadata": {
  "language_info": {
   "name": "python"
  }
 },
 "nbformat": 4,
 "nbformat_minor": 2
}
