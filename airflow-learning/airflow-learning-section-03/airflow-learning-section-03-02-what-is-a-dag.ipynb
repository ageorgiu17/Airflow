{
 "cells": [
  {
   "cell_type": "markdown",
   "metadata": {},
   "source": [
    "# What is a DAG?"
   ]
  },
  {
   "cell_type": "markdown",
   "metadata": {},
   "source": [
    "DAG-ul este elementul cu care o să interacționăm cel mai mult din Airflow. Ce anume este un DAG? Un DAG poate fi considerat ca și fiind un Pipeline de date (DAG=Data Pipeline). Numele vine de la Directed Acyclic Graph. Această denumire ne spune că avem de-a face cu un graph (care conține nodes și edges), iar acele edges sunt direcționate. De asemenea, din nume putem să ne dăm seama și de faptul că nu există bucle în cadrul unui astfel de graph."
   ]
  },
  {
   "cell_type": "markdown",
   "metadata": {},
   "source": [
    "O să ne creem primul DAG din acest proiect. UN DAG reprezintă un Data Pipeline întreg. În cadrul acestui DAG o să ne creem mai multe task-uri, iar la final putem să creem dependențe pentru fiecare task (un anumit task să ruleze doar după ce alt task a fost executat cu succes)."
   ]
  },
  {
   "cell_type": "markdown",
   "metadata": {},
   "source": [
    "Un DAG reprezintă un fișier python pe care trebuie să îl creem în cadrul directorului \"dags\" din airflow. O să ne creem un nou DAG care o să poarte denumirea de \"test_data_pipeline.py\""
   ]
  },
  {
   "cell_type": "markdown",
   "metadata": {},
   "source": [
    "Prima linie de cod din cadrul fișierului o să fie următoarea"
   ]
  },
  {
   "cell_type": "code",
   "execution_count": null,
   "metadata": {},
   "outputs": [],
   "source": [
    "from airflow import DAG"
   ]
  },
  {
   "cell_type": "markdown",
   "metadata": {},
   "source": [
    "Din cadrul librăriei airflow importăm acel obiect DAG. Trebuie să instanțiem acest obiect, iar acest lucru o să îl facem utilizând un context (with) din Python"
   ]
  },
  {
   "cell_type": "code",
   "execution_count": null,
   "metadata": {},
   "outputs": [],
   "source": [
    "with DAG() as dag:\n",
    "    pass"
   ]
  },
  {
   "cell_type": "markdown",
   "metadata": {},
   "source": [
    "Acestui obiect DAG trebuie să îi oferim anumite informații ca și argumente. Există un număr destul de mare de argumente pe care putem să îl oferim acestui obiect. Argumentele pe care trebuie să le oferim sunt următoarele:\n",
    "\n",
    "- dag_id\n",
    "\n",
    "- description\n",
    "\n",
    "- start_date (obiect de tip datetime prin care spunem când anume să înceapă acest DAG)\n",
    "\n",
    "- scheduler_interval (când să se repete acest Data Pipeline, la ce interval de timp)\n",
    "\n",
    "O să mai creem și un dicționar care o să conțină anumite informații default ca și argumente. Acest dicționar o să conțină următoarele valori:\n",
    "\n",
    "- owner\n",
    "\n",
    "- retries\n",
    "\n",
    "- retry_delay\n",
    "\n",
    "- email_on_failuer\n",
    "\n",
    "- email"
   ]
  },
  {
   "cell_type": "code",
   "execution_count": null,
   "metadata": {},
   "outputs": [],
   "source": [
    "from datetime import datetime, timedelta\n",
    "\n",
    "\n",
    "default_args = {\n",
    "    \"owner\": \"airflow\",\n",
    "    \"retries\": 3,\n",
    "    \"retry_delay\": timedelta(minutes=5),\n",
    "    \"email_on_failure\": False,\n",
    "    \"email\": \"georgiuandrei05@gmail.com\"\n",
    "}\n",
    "\n",
    "with DAG(\n",
    "    dag_id=\"test_data_pipeline\",\n",
    "    description=\"Testing the data pipeline from Udemy\",\n",
    "    start_date=datetime(2024, 1, 1),\n",
    "    schedule_interval=\"@daily\",\n",
    "    default_args=default_args,\n",
    "    catchup=False\n",
    ") as dag:\n",
    "    pass"
   ]
  },
  {
   "cell_type": "markdown",
   "metadata": {},
   "source": [
    "Parametrul de \"catchup\" îi spune lui Airflow să nu ruleze pipeline-ul pentru zilele care există între data de \"start_date\" și ziua curentă. De exemplul acest DAG are ca și start_date prima zi din an (1 Ianuarie 2024), iar ziua curentă este 10 Ianuarie 2024. Între acestea sunt 10 zile. Dacă nu specificam valoarea False pentru parametrul de \"catchup\", airflow rula acest DAG pentru zilele de 1 Ianuarie, 2 Ianuarie, 3 Ianuarie și tot așa până ce ajungea la ziua curentă, iar noi nu dorim acest lucru."
   ]
  },
  {
   "cell_type": "markdown",
   "metadata": {},
   "source": [
    "La final, tot codul nostru o să arate așa:"
   ]
  },
  {
   "cell_type": "code",
   "execution_count": null,
   "metadata": {},
   "outputs": [],
   "source": [
    "from airflow import DAG\n",
    "from datetime import datetime, timedelta\n",
    "\n",
    "\n",
    "default_args={\n",
    "    \"owner\": \"airflow\",\n",
    "    \"retries\": 5,\n",
    "    \"retry_delay\": timedelta(minutes=5),\n",
    "    \"email_on_failure\": False,\n",
    "    \"email\": \"georgiuandrei05@gmail.com\"\n",
    "}\n",
    "\n",
    "with DAG(\n",
    "    dag_id=\"test_forex_data_pipeline\",\n",
    "    description=\"testing the forex data pipeline from Udemy course\",\n",
    "    default_args=default_args,\n",
    "    start_date=datetime(2024, 1, 1),\n",
    "    schedule_interval=\"@daily\",\n",
    "    catchup=False\n",
    ") as dag:\n",
    "    pass"
   ]
  }
 ],
 "metadata": {
  "language_info": {
   "name": "python"
  }
 },
 "nbformat": 4,
 "nbformat_minor": 2
}
