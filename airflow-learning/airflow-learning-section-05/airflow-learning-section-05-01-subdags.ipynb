{
 "cells": [
  {
   "cell_type": "markdown",
   "metadata": {},
   "source": [
    "# SubDags"
   ]
  },
  {
   "cell_type": "markdown",
   "metadata": {},
   "source": [
    "Atunci când începem să construim DAG-uri mai complexe, există posibilitatea să ajungem să executăm mai multe DAG-uri în paralel care execută cam aceeași funcție. De exemplu, există posibilitatea să avem 3 task-uri care toate descarcă date de pe un API, iar toate aceste 3 task-uri să ruleze în paralel. Ca să facem întregul DAG mai clean, putem să grupăm aceste DAG-uri utilizând SubDAGs."
   ]
  },
  {
   "cell_type": "markdown",
   "metadata": {},
   "source": [
    "<img src=\"../../ss/airflow-section-05/section-05-ss-01.png\">"
   ]
  },
  {
   "cell_type": "markdown",
   "metadata": {},
   "source": [
    "Avem un task de început (start), iar după ce se termină acesta de rulat, urmează 4 task-uri care trebuie rulate în paralel. Ca să simplificăm acest grafic, utilizând SubDAGs, putem să grupăm acestea task-uri într-un singur task comun (task care o să execute toate task-urile care există în acel task)"
   ]
  },
  {
   "cell_type": "markdown",
   "metadata": {},
   "source": [
    "După gruparea acestor task-uri o să avem un grafic precum cel de jos."
   ]
  },
  {
   "cell_type": "markdown",
   "metadata": {},
   "source": [
    "<img src=\"../../ss/airflow-section-05/section-05-ss-02.png\">"
   ]
  },
  {
   "cell_type": "markdown",
   "metadata": {},
   "source": [
    "Acest procedeu se realizează doar pentru partea vizuală. Poate de multe ori nu o să fie nevoie să creem aceste SubDAGs deoarece nu o să avem un număr atâta de mare de task-uri."
   ]
  },
  {
   "cell_type": "markdown",
   "metadata": {},
   "source": [
    "Există și anumite informații pe care trebuie să le luăm în considerare:\n",
    "\n",
    "- SubDAG-ul este controlat în continuare de către DAG-ul principal, prin urmare ar trebui să aibă aceleași valori pentru start_date și scheduling_interval\n",
    "\n",
    "- cea mai mare problemă cu SubDAG-urile o reprezintă partea de Deadblock deoarece acesta nu știe câte task-uri există în acest grup de task-uri, iar asta poate duce la încetinirea rulării DAG-ului"
   ]
  },
  {
   "cell_type": "markdown",
   "metadata": {},
   "source": []
  }
 ],
 "metadata": {
  "language_info": {
   "name": "python"
  }
 },
 "nbformat": 4,
 "nbformat_minor": 2
}
